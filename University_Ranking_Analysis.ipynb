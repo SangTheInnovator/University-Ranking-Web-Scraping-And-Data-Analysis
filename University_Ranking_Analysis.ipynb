{
 "cells": [
  {
   "cell_type": "code",
   "execution_count": 2,
   "id": "bff994f6",
   "metadata": {},
   "outputs": [],
   "source": [
    "import pandas as pd\n",
    "import numpy as np\n",
    "import matplotlib.pyplot as plt"
   ]
  },
  {
   "cell_type": "code",
   "execution_count": 3,
   "id": "06e9e87c",
   "metadata": {},
   "outputs": [],
   "source": [
    "uni_ranks = pd.read_csv('university_ranking.csv')"
   ]
  },
  {
   "cell_type": "code",
   "execution_count": 4,
   "id": "104b6354",
   "metadata": {},
   "outputs": [
    {
     "data": {
      "text/html": [
       "<div>\n",
       "<style scoped>\n",
       "    .dataframe tbody tr th:only-of-type {\n",
       "        vertical-align: middle;\n",
       "    }\n",
       "\n",
       "    .dataframe tbody tr th {\n",
       "        vertical-align: top;\n",
       "    }\n",
       "\n",
       "    .dataframe thead th {\n",
       "        text-align: right;\n",
       "    }\n",
       "</style>\n",
       "<table border=\"1\" class=\"dataframe\">\n",
       "  <thead>\n",
       "    <tr style=\"text-align: right;\">\n",
       "      <th></th>\n",
       "      <th>Name</th>\n",
       "      <th>Region</th>\n",
       "      <th>Location</th>\n",
       "      <th>City</th>\n",
       "      <th>Overall Score</th>\n",
       "      <th>International Students Ratio</th>\n",
       "      <th>International Faculty Ratio</th>\n",
       "      <th>Faculty Student Ratio</th>\n",
       "      <th>Academic Reputation</th>\n",
       "      <th>Citations Per Faculty</th>\n",
       "      <th>Employer Reputation</th>\n",
       "    </tr>\n",
       "    <tr>\n",
       "      <th>Rank</th>\n",
       "      <th></th>\n",
       "      <th></th>\n",
       "      <th></th>\n",
       "      <th></th>\n",
       "      <th></th>\n",
       "      <th></th>\n",
       "      <th></th>\n",
       "      <th></th>\n",
       "      <th></th>\n",
       "      <th></th>\n",
       "      <th></th>\n",
       "    </tr>\n",
       "  </thead>\n",
       "  <tbody>\n",
       "    <tr>\n",
       "      <th>1</th>\n",
       "      <td>Massachusetts Institute of Technology (MIT)</td>\n",
       "      <td>North America</td>\n",
       "      <td>United States</td>\n",
       "      <td>Cambridge</td>\n",
       "      <td>100.0</td>\n",
       "      <td>91.4</td>\n",
       "      <td>100</td>\n",
       "      <td>100.0</td>\n",
       "      <td>100.0</td>\n",
       "      <td>100.0</td>\n",
       "      <td>100.0</td>\n",
       "    </tr>\n",
       "    <tr>\n",
       "      <th>2</th>\n",
       "      <td>University of Oxford</td>\n",
       "      <td>Europe</td>\n",
       "      <td>United Kingdom</td>\n",
       "      <td>Oxford</td>\n",
       "      <td>99.5</td>\n",
       "      <td>98.5</td>\n",
       "      <td>99.5</td>\n",
       "      <td>100.0</td>\n",
       "      <td>100.0</td>\n",
       "      <td>96.0</td>\n",
       "      <td>100.0</td>\n",
       "    </tr>\n",
       "    <tr>\n",
       "      <th>3</th>\n",
       "      <td>Stanford University</td>\n",
       "      <td>North America</td>\n",
       "      <td>United States</td>\n",
       "      <td>Stanford</td>\n",
       "      <td>98.7</td>\n",
       "      <td>67.0</td>\n",
       "      <td>99.8</td>\n",
       "      <td>100.0</td>\n",
       "      <td>100.0</td>\n",
       "      <td>99.9</td>\n",
       "      <td>100.0</td>\n",
       "    </tr>\n",
       "    <tr>\n",
       "      <th>4</th>\n",
       "      <td>University of Cambridge</td>\n",
       "      <td>Europe</td>\n",
       "      <td>United Kingdom</td>\n",
       "      <td>Cambridge</td>\n",
       "      <td>98.7</td>\n",
       "      <td>97.7</td>\n",
       "      <td>100</td>\n",
       "      <td>100.0</td>\n",
       "      <td>100.0</td>\n",
       "      <td>92.1</td>\n",
       "      <td>100.0</td>\n",
       "    </tr>\n",
       "    <tr>\n",
       "      <th>5</th>\n",
       "      <td>Harvard University</td>\n",
       "      <td>North America</td>\n",
       "      <td>United States</td>\n",
       "      <td>Cambridge</td>\n",
       "      <td>98.0</td>\n",
       "      <td>70.1</td>\n",
       "      <td>84.2</td>\n",
       "      <td>99.1</td>\n",
       "      <td>100.0</td>\n",
       "      <td>100.0</td>\n",
       "      <td>100.0</td>\n",
       "    </tr>\n",
       "    <tr>\n",
       "      <th>...</th>\n",
       "      <td>...</td>\n",
       "      <td>...</td>\n",
       "      <td>...</td>\n",
       "      <td>...</td>\n",
       "      <td>...</td>\n",
       "      <td>...</td>\n",
       "      <td>...</td>\n",
       "      <td>...</td>\n",
       "      <td>...</td>\n",
       "      <td>...</td>\n",
       "      <td>...</td>\n",
       "    </tr>\n",
       "    <tr>\n",
       "      <th>196</th>\n",
       "      <td>Technische Universit�t Dresden</td>\n",
       "      <td>Europe</td>\n",
       "      <td>Germany</td>\n",
       "      <td>Dresden</td>\n",
       "      <td>44.8</td>\n",
       "      <td>37.1</td>\n",
       "      <td>25.2</td>\n",
       "      <td>86.6</td>\n",
       "      <td>38.0</td>\n",
       "      <td>19.5</td>\n",
       "      <td>51.0</td>\n",
       "    </tr>\n",
       "    <tr>\n",
       "      <th>197</th>\n",
       "      <td>University of Otago</td>\n",
       "      <td>Oceania</td>\n",
       "      <td>New Zealand</td>\n",
       "      <td>Dunedin</td>\n",
       "      <td>44.8</td>\n",
       "      <td>47.4</td>\n",
       "      <td>100</td>\n",
       "      <td>16.0</td>\n",
       "      <td>50.6</td>\n",
       "      <td>49.5</td>\n",
       "      <td>39.2</td>\n",
       "    </tr>\n",
       "    <tr>\n",
       "      <th>198</th>\n",
       "      <td>The University of Newcastle, Australia (UON)</td>\n",
       "      <td>Oceania</td>\n",
       "      <td>Australia</td>\n",
       "      <td>Callaghan</td>\n",
       "      <td>44.6</td>\n",
       "      <td>30.5</td>\n",
       "      <td>100</td>\n",
       "      <td>32.9</td>\n",
       "      <td>30.8</td>\n",
       "      <td>80.6</td>\n",
       "      <td>28.6</td>\n",
       "    </tr>\n",
       "    <tr>\n",
       "      <th>199</th>\n",
       "      <td>The Hebrew University of Jerusalem</td>\n",
       "      <td>Asia</td>\n",
       "      <td>Israel</td>\n",
       "      <td>Jerusalem</td>\n",
       "      <td>44.5</td>\n",
       "      <td>9.4</td>\n",
       "      <td>51.8</td>\n",
       "      <td>84.5</td>\n",
       "      <td>34.9</td>\n",
       "      <td>36.7</td>\n",
       "      <td>30.8</td>\n",
       "    </tr>\n",
       "    <tr>\n",
       "      <th>200</th>\n",
       "      <td>University of Bergen</td>\n",
       "      <td>Europe</td>\n",
       "      <td>Norway</td>\n",
       "      <td>Bergen</td>\n",
       "      <td>44.2</td>\n",
       "      <td>8.5</td>\n",
       "      <td>85.5</td>\n",
       "      <td>78.1</td>\n",
       "      <td>34.2</td>\n",
       "      <td>45.0</td>\n",
       "      <td>10.0</td>\n",
       "    </tr>\n",
       "  </tbody>\n",
       "</table>\n",
       "<p>200 rows × 11 columns</p>\n",
       "</div>"
      ],
      "text/plain": [
       "                                              Name         Region  \\\n",
       "Rank                                                                \n",
       "1      Massachusetts Institute of Technology (MIT)  North America   \n",
       "2                             University of Oxford         Europe   \n",
       "3                              Stanford University  North America   \n",
       "4                          University of Cambridge         Europe   \n",
       "5                               Harvard University  North America   \n",
       "...                                            ...            ...   \n",
       "196                 Technische Universit�t Dresden         Europe   \n",
       "197                            University of Otago        Oceania   \n",
       "198   The University of Newcastle, Australia (UON)        Oceania   \n",
       "199             The Hebrew University of Jerusalem           Asia   \n",
       "200                           University of Bergen         Europe   \n",
       "\n",
       "            Location       City  Overall Score  International Students Ratio  \\\n",
       "Rank                                                                           \n",
       "1      United States  Cambridge          100.0                          91.4   \n",
       "2     United Kingdom     Oxford           99.5                          98.5   \n",
       "3      United States   Stanford           98.7                          67.0   \n",
       "4     United Kingdom  Cambridge           98.7                          97.7   \n",
       "5      United States  Cambridge           98.0                          70.1   \n",
       "...              ...        ...            ...                           ...   \n",
       "196          Germany    Dresden           44.8                          37.1   \n",
       "197      New Zealand    Dunedin           44.8                          47.4   \n",
       "198        Australia  Callaghan           44.6                          30.5   \n",
       "199           Israel  Jerusalem           44.5                           9.4   \n",
       "200           Norway     Bergen           44.2                           8.5   \n",
       "\n",
       "     International Faculty Ratio  Faculty Student Ratio  Academic Reputation  \\\n",
       "Rank                                                                           \n",
       "1                            100                  100.0                100.0   \n",
       "2                           99.5                  100.0                100.0   \n",
       "3                           99.8                  100.0                100.0   \n",
       "4                            100                  100.0                100.0   \n",
       "5                           84.2                   99.1                100.0   \n",
       "...                          ...                    ...                  ...   \n",
       "196                         25.2                   86.6                 38.0   \n",
       "197                          100                   16.0                 50.6   \n",
       "198                          100                   32.9                 30.8   \n",
       "199                         51.8                   84.5                 34.9   \n",
       "200                         85.5                   78.1                 34.2   \n",
       "\n",
       "      Citations Per Faculty  Employer Reputation  \n",
       "Rank                                              \n",
       "1                     100.0                100.0  \n",
       "2                      96.0                100.0  \n",
       "3                      99.9                100.0  \n",
       "4                      92.1                100.0  \n",
       "5                     100.0                100.0  \n",
       "...                     ...                  ...  \n",
       "196                    19.5                 51.0  \n",
       "197                    49.5                 39.2  \n",
       "198                    80.6                 28.6  \n",
       "199                    36.7                 30.8  \n",
       "200                    45.0                 10.0  \n",
       "\n",
       "[200 rows x 11 columns]"
      ]
     },
     "execution_count": 4,
     "metadata": {},
     "output_type": "execute_result"
    }
   ],
   "source": [
    "uni_ranks.set_index(\"Rank\")"
   ]
  },
  {
   "cell_type": "code",
   "execution_count": 5,
   "id": "9fdf49cc",
   "metadata": {},
   "outputs": [
    {
     "data": {
      "text/plain": [
       "(200, 12)"
      ]
     },
     "execution_count": 5,
     "metadata": {},
     "output_type": "execute_result"
    }
   ],
   "source": [
    "uni_ranks.shape"
   ]
  },
  {
   "cell_type": "code",
   "execution_count": 6,
   "id": "c3dd03bb",
   "metadata": {},
   "outputs": [
    {
     "name": "stdout",
     "output_type": "stream",
     "text": [
      "<class 'pandas.core.frame.DataFrame'>\n",
      "RangeIndex: 200 entries, 0 to 199\n",
      "Data columns (total 12 columns):\n",
      " #   Column                        Non-Null Count  Dtype  \n",
      "---  ------                        --------------  -----  \n",
      " 0   Rank                          200 non-null    int64  \n",
      " 1   Name                          200 non-null    object \n",
      " 2   Region                        200 non-null    object \n",
      " 3   Location                      200 non-null    object \n",
      " 4   City                          198 non-null    object \n",
      " 5   Overall Score                 200 non-null    float64\n",
      " 6   International Students Ratio  200 non-null    float64\n",
      " 7   International Faculty Ratio   200 non-null    object \n",
      " 8   Faculty Student Ratio         200 non-null    float64\n",
      " 9   Academic Reputation           200 non-null    float64\n",
      " 10  Citations Per Faculty         200 non-null    float64\n",
      " 11  Employer Reputation           200 non-null    float64\n",
      "dtypes: float64(6), int64(1), object(5)\n",
      "memory usage: 18.9+ KB\n"
     ]
    }
   ],
   "source": [
    "uni_ranks.info()"
   ]
  },
  {
   "cell_type": "code",
   "execution_count": 152,
   "id": "0f72c365",
   "metadata": {},
   "outputs": [
    {
     "data": {
      "text/html": [
       "<div>\n",
       "<style scoped>\n",
       "    .dataframe tbody tr th:only-of-type {\n",
       "        vertical-align: middle;\n",
       "    }\n",
       "\n",
       "    .dataframe tbody tr th {\n",
       "        vertical-align: top;\n",
       "    }\n",
       "\n",
       "    .dataframe thead th {\n",
       "        text-align: right;\n",
       "    }\n",
       "</style>\n",
       "<table border=\"1\" class=\"dataframe\">\n",
       "  <thead>\n",
       "    <tr style=\"text-align: right;\">\n",
       "      <th></th>\n",
       "      <th>Rank</th>\n",
       "      <th>Overall Score</th>\n",
       "      <th>International Students Ratio</th>\n",
       "      <th>Faculty Student Ratio</th>\n",
       "      <th>Academic Reputation</th>\n",
       "      <th>Citations Per Faculty</th>\n",
       "      <th>Employer Reputation</th>\n",
       "    </tr>\n",
       "  </thead>\n",
       "  <tbody>\n",
       "    <tr>\n",
       "      <th>count</th>\n",
       "      <td>200.000000</td>\n",
       "      <td>200.000000</td>\n",
       "      <td>200.000000</td>\n",
       "      <td>200.00000</td>\n",
       "      <td>200.000000</td>\n",
       "      <td>200.000000</td>\n",
       "      <td>200.000000</td>\n",
       "    </tr>\n",
       "    <tr>\n",
       "      <th>mean</th>\n",
       "      <td>100.500000</td>\n",
       "      <td>63.982500</td>\n",
       "      <td>58.617000</td>\n",
       "      <td>59.43050</td>\n",
       "      <td>66.112000</td>\n",
       "      <td>64.956500</td>\n",
       "      <td>63.727000</td>\n",
       "    </tr>\n",
       "    <tr>\n",
       "      <th>std</th>\n",
       "      <td>57.879185</td>\n",
       "      <td>15.435007</td>\n",
       "      <td>31.458597</td>\n",
       "      <td>31.04294</td>\n",
       "      <td>23.187886</td>\n",
       "      <td>25.351835</td>\n",
       "      <td>26.308998</td>\n",
       "    </tr>\n",
       "    <tr>\n",
       "      <th>min</th>\n",
       "      <td>1.000000</td>\n",
       "      <td>44.200000</td>\n",
       "      <td>1.600000</td>\n",
       "      <td>3.50000</td>\n",
       "      <td>13.700000</td>\n",
       "      <td>1.300000</td>\n",
       "      <td>10.000000</td>\n",
       "    </tr>\n",
       "    <tr>\n",
       "      <th>25%</th>\n",
       "      <td>50.750000</td>\n",
       "      <td>50.500000</td>\n",
       "      <td>32.075000</td>\n",
       "      <td>32.82500</td>\n",
       "      <td>47.075000</td>\n",
       "      <td>49.025000</td>\n",
       "      <td>44.500000</td>\n",
       "    </tr>\n",
       "    <tr>\n",
       "      <th>50%</th>\n",
       "      <td>100.500000</td>\n",
       "      <td>59.750000</td>\n",
       "      <td>61.750000</td>\n",
       "      <td>62.60000</td>\n",
       "      <td>65.800000</td>\n",
       "      <td>64.500000</td>\n",
       "      <td>63.700000</td>\n",
       "    </tr>\n",
       "    <tr>\n",
       "      <th>75%</th>\n",
       "      <td>150.250000</td>\n",
       "      <td>75.650000</td>\n",
       "      <td>88.650000</td>\n",
       "      <td>87.00000</td>\n",
       "      <td>87.750000</td>\n",
       "      <td>87.950000</td>\n",
       "      <td>89.300000</td>\n",
       "    </tr>\n",
       "    <tr>\n",
       "      <th>max</th>\n",
       "      <td>200.000000</td>\n",
       "      <td>100.000000</td>\n",
       "      <td>100.000000</td>\n",
       "      <td>100.00000</td>\n",
       "      <td>100.000000</td>\n",
       "      <td>100.000000</td>\n",
       "      <td>100.000000</td>\n",
       "    </tr>\n",
       "  </tbody>\n",
       "</table>\n",
       "</div>"
      ],
      "text/plain": [
       "             Rank  Overall Score  International Students Ratio  \\\n",
       "count  200.000000     200.000000                    200.000000   \n",
       "mean   100.500000      63.982500                     58.617000   \n",
       "std     57.879185      15.435007                     31.458597   \n",
       "min      1.000000      44.200000                      1.600000   \n",
       "25%     50.750000      50.500000                     32.075000   \n",
       "50%    100.500000      59.750000                     61.750000   \n",
       "75%    150.250000      75.650000                     88.650000   \n",
       "max    200.000000     100.000000                    100.000000   \n",
       "\n",
       "       Faculty Student Ratio  Academic Reputation  Citations Per Faculty  \\\n",
       "count              200.00000           200.000000             200.000000   \n",
       "mean                59.43050            66.112000              64.956500   \n",
       "std                 31.04294            23.187886              25.351835   \n",
       "min                  3.50000            13.700000               1.300000   \n",
       "25%                 32.82500            47.075000              49.025000   \n",
       "50%                 62.60000            65.800000              64.500000   \n",
       "75%                 87.00000            87.750000              87.950000   \n",
       "max                100.00000           100.000000             100.000000   \n",
       "\n",
       "       Employer Reputation  \n",
       "count           200.000000  \n",
       "mean             63.727000  \n",
       "std              26.308998  \n",
       "min              10.000000  \n",
       "25%              44.500000  \n",
       "50%              63.700000  \n",
       "75%              89.300000  \n",
       "max             100.000000  "
      ]
     },
     "execution_count": 152,
     "metadata": {},
     "output_type": "execute_result"
    }
   ],
   "source": [
    "uni_ranks.describe()"
   ]
  },
  {
   "cell_type": "markdown",
   "id": "4264a788",
   "metadata": {},
   "source": [
    "# Numerical Analysis and Visualization"
   ]
  },
  {
   "cell_type": "markdown",
   "id": "4691b841",
   "metadata": {},
   "source": [
    "## Analyze and Visualize the number of universities per location"
   ]
  },
  {
   "cell_type": "code",
   "execution_count": 7,
   "id": "95cfc551",
   "metadata": {},
   "outputs": [
    {
     "name": "stdout",
     "output_type": "stream",
     "text": [
      "['Argentina', 'Australia', 'Austria', 'Belgium', 'Brazil', 'Canada', 'Chile', 'China (Mainland)', 'Denmark', 'Finland', 'France', 'Germany', 'Hong Kong SAR', 'India', 'Ireland', 'Israel', 'Italy', 'Japan', 'Kazakhstan', 'Malaysia', 'Mexico', 'Netherlands', 'New Zealand', 'Norway', 'Russia', 'Saudi Arabia', 'Singapore', 'South Korea', 'Spain', 'Sweden', 'Switzerland', 'Taiwan', 'United Arab Emirates', 'United Kingdom', 'United States']\n"
     ]
    }
   ],
   "source": [
    "location_amount = []\n",
    "location_count = uni_ranks.groupby(\"Location\").Location.unique()\n",
    "for loc in location_count:\n",
    "    location_amount.extend(loc)\n",
    "print(location_amount)"
   ]
  },
  {
   "cell_type": "code",
   "execution_count": 8,
   "id": "cc0ac86c",
   "metadata": {
    "scrolled": false
   },
   "outputs": [
    {
     "name": "stdout",
     "output_type": "stream",
     "text": [
      "Location\n",
      "Argentina                1\n",
      "Australia               12\n",
      "Austria                  2\n",
      "Belgium                  3\n",
      "Brazil                   1\n",
      "Canada                   8\n",
      "Chile                    2\n",
      "China (Mainland)         7\n",
      "Denmark                  3\n",
      "Finland                  2\n",
      "France                   5\n",
      "Germany                 11\n",
      "Hong Kong SAR            5\n",
      "India                    3\n",
      "Ireland                  2\n",
      "Israel                   1\n",
      "Italy                    3\n",
      "Japan                    8\n",
      "Kazakhstan               1\n",
      "Malaysia                 5\n",
      "Mexico                   2\n",
      "Netherlands              9\n",
      "New Zealand              2\n",
      "Norway                   2\n",
      "Russia                   1\n",
      "Saudi Arabia             2\n",
      "Singapore                2\n",
      "South Korea              7\n",
      "Spain                    1\n",
      "Sweden                   6\n",
      "Switzerland              7\n",
      "Taiwan                   2\n",
      "United Arab Emirates     1\n",
      "United Kingdom          26\n",
      "United States           45\n",
      "Name: Name, dtype: int64\n"
     ]
    }
   ],
   "source": [
    "university_amount = []\n",
    "university_count = uni_ranks.groupby(\"Location\").Name.count()\n",
    "print(university_count)\n",
    "for count in university_count:\n",
    "    university_amount.append(count)"
   ]
  },
  {
   "cell_type": "code",
   "execution_count": 6,
   "id": "06dff2c6",
   "metadata": {},
   "outputs": [
    {
     "data": {
      "image/png": "[encoded data removed]",
      "text/plain": [
       "<Figure size 1296x1152 with 1 Axes>"
      ]
     },
     "metadata": {
      "needs_background": "light"
     },
     "output_type": "display_data"
    }
   ],
   "source": [
    "countries_axis = location_amount\n",
    "university_amount_axis = university_amount\n",
    "plt.title('The number of universities in each countries')\n",
    "plt.bar(countries_axis, university_amount_axis, align='center')\n",
    "plt.gcf().autofmt_xdate()\n",
    "fig = plt.gcf()\n",
    "fig.set_size_inches(18, 16)\n",
    "plt.show()"
   ]
  },
  {
   "cell_type": "markdown",
   "id": "82703829",
   "metadata": {},
   "source": [
    "## Analyze and Visualize the percentage of universitites per region"
   ]
  },
  {
   "cell_type": "code",
   "execution_count": 42,
   "id": "29cd0888",
   "metadata": {},
   "outputs": [
    {
     "name": "stdout",
     "output_type": "stream",
     "text": [
      "Region\n",
      "Asia             44\n",
      "Europe           83\n",
      "Latin America     6\n",
      "North America    53\n",
      "Oceania          14\n",
      "Name: Name, dtype: int64\n",
      "[22.0, 41.5, 3.0, 26.5, 7.000000000000001]\n"
     ]
    }
   ],
   "source": [
    "percent = []\n",
    "uni_count = []\n",
    "uni_per_region = uni_ranks.groupby(\"Region\").Name.count()\n",
    "for count in uni_per_region:\n",
    "    uni_count.append(count)\n",
    "print(uni_per_region)\n",
    "for i in uni_count:\n",
    "    percent.append(i/sum(uni_count)*100)\n",
    "print(percent)"
   ]
  },
  {
   "cell_type": "code",
   "execution_count": 24,
   "id": "22fe4d4d",
   "metadata": {},
   "outputs": [
    {
     "name": "stdout",
     "output_type": "stream",
     "text": [
      "['Asia', 'Europe', 'Latin America', 'North America', 'Oceania']\n"
     ]
    }
   ],
   "source": [
    "region = []\n",
    "for count in uni_ranks.groupby(\"Region\").Region.unique():\n",
    "    region.extend(count)\n",
    "print(region)  "
   ]
  },
  {
   "cell_type": "code",
   "execution_count": 40,
   "id": "169242fd",
   "metadata": {},
   "outputs": [
    {
     "data": {
      "image/png": "[encoded data removed]",
      "text/plain": [
       "<Figure size 864x936 with 1 Axes>"
      ]
     },
     "metadata": {},
     "output_type": "display_data"
    }
   ],
   "source": [
    "plt.pie(percent, labels=region)\n",
    "plt.title(\"The percentage of universities per region\")\n",
    "fig = plt.gcf()\n",
    "fig.set_size_inches(12, 13)\n",
    "plt.show()"
   ]
  },
  {
   "cell_type": "markdown",
   "id": "75c78ba4",
   "metadata": {},
   "source": []
  },
  {
   "cell_type": "code",
   "execution_count": null,
   "id": "0aa69910",
   "metadata": {},
   "outputs": [],
   "source": []
  },
  {
   "cell_type": "code",
   "execution_count": null,
   "id": "26c7f5db",
   "metadata": {},
   "outputs": [],
   "source": []
  },
  {
   "cell_type": "code",
   "execution_count": null,
   "id": "b41db7c3",
   "metadata": {},
   "outputs": [],
   "source": []
  }
 ],
 "metadata": {
  "kernelspec": {
   "display_name": "Python 3",
   "language": "python",
   "name": "python3"
  },
  "language_info": {
   "codemirror_mode": {
    "name": "ipython",
    "version": 3
   },
   "file_extension": ".py",
   "mimetype": "text/x-python",
   "name": "python",
   "nbconvert_exporter": "python",
   "pygments_lexer": "ipython3",
   "version": "3.8.5"
  },
  "vscode": {
   "interpreter": {
    "hash": "5dfae5e4ec4aeb58fc3aca8e7e87465f54ab99df763325b62da24789ecd4ea9b"
   }
  }
 },
 "nbformat": 4,
 "nbformat_minor": 5
}
