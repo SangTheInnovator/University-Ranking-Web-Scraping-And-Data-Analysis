{
 "cells": [
  {
   "cell_type": "code",
   "execution_count": 105,
   "id": "bff994f6",
   "metadata": {},
   "outputs": [],
   "source": [
    "import pandas as pd\n",
    "import numpy as np\n",
    "import matplotlib.pyplot as plt"
   ]
  },
  {
   "cell_type": "code",
   "execution_count": 106,
   "id": "06e9e87c",
   "metadata": {},
   "outputs": [],
   "source": [
    "uni_ranks = pd.read_csv('university_ranking.csv')"
   ]
  },
  {
   "cell_type": "code",
   "execution_count": 107,
   "id": "104b6354",
   "metadata": {},
   "outputs": [
    {
     "data": {
      "text/html": [
       "<div>\n",
       "<style scoped>\n",
       "    .dataframe tbody tr th:only-of-type {\n",
       "        vertical-align: middle;\n",
       "    }\n",
       "\n",
       "    .dataframe tbody tr th {\n",
       "        vertical-align: top;\n",
       "    }\n",
       "\n",
       "    .dataframe thead th {\n",
       "        text-align: right;\n",
       "    }\n",
       "</style>\n",
       "<table border=\"1\" class=\"dataframe\">\n",
       "  <thead>\n",
       "    <tr style=\"text-align: right;\">\n",
       "      <th></th>\n",
       "      <th>Rank</th>\n",
       "      <th>Name</th>\n",
       "      <th>Region</th>\n",
       "      <th>Location</th>\n",
       "      <th>City</th>\n",
       "      <th>Overall Score</th>\n",
       "      <th>International Students Ratio</th>\n",
       "      <th>International Faculty Ratio</th>\n",
       "      <th>Faculty Student Ratio</th>\n",
       "      <th>Academic Reputation</th>\n",
       "      <th>Citations Per Faculty</th>\n",
       "      <th>Employer Reputation</th>\n",
       "    </tr>\n",
       "  </thead>\n",
       "  <tbody>\n",
       "    <tr>\n",
       "      <th>0</th>\n",
       "      <td>1</td>\n",
       "      <td>Massachusetts Institute of Technology (MIT)</td>\n",
       "      <td>North America</td>\n",
       "      <td>United States</td>\n",
       "      <td>Cambridge</td>\n",
       "      <td>100.0</td>\n",
       "      <td>91.4</td>\n",
       "      <td>100</td>\n",
       "      <td>100.0</td>\n",
       "      <td>100.0</td>\n",
       "      <td>100.0</td>\n",
       "      <td>100.0</td>\n",
       "    </tr>\n",
       "    <tr>\n",
       "      <th>1</th>\n",
       "      <td>2</td>\n",
       "      <td>University of Oxford</td>\n",
       "      <td>Europe</td>\n",
       "      <td>United Kingdom</td>\n",
       "      <td>Oxford</td>\n",
       "      <td>99.5</td>\n",
       "      <td>98.5</td>\n",
       "      <td>99.5</td>\n",
       "      <td>100.0</td>\n",
       "      <td>100.0</td>\n",
       "      <td>96.0</td>\n",
       "      <td>100.0</td>\n",
       "    </tr>\n",
       "    <tr>\n",
       "      <th>2</th>\n",
       "      <td>3</td>\n",
       "      <td>Stanford University</td>\n",
       "      <td>North America</td>\n",
       "      <td>United States</td>\n",
       "      <td>Stanford</td>\n",
       "      <td>98.7</td>\n",
       "      <td>67.0</td>\n",
       "      <td>99.8</td>\n",
       "      <td>100.0</td>\n",
       "      <td>100.0</td>\n",
       "      <td>99.9</td>\n",
       "      <td>100.0</td>\n",
       "    </tr>\n",
       "    <tr>\n",
       "      <th>3</th>\n",
       "      <td>4</td>\n",
       "      <td>University of Cambridge</td>\n",
       "      <td>Europe</td>\n",
       "      <td>United Kingdom</td>\n",
       "      <td>Cambridge</td>\n",
       "      <td>98.7</td>\n",
       "      <td>97.7</td>\n",
       "      <td>100</td>\n",
       "      <td>100.0</td>\n",
       "      <td>100.0</td>\n",
       "      <td>92.1</td>\n",
       "      <td>100.0</td>\n",
       "    </tr>\n",
       "    <tr>\n",
       "      <th>4</th>\n",
       "      <td>5</td>\n",
       "      <td>Harvard University</td>\n",
       "      <td>North America</td>\n",
       "      <td>United States</td>\n",
       "      <td>Cambridge</td>\n",
       "      <td>98.0</td>\n",
       "      <td>70.1</td>\n",
       "      <td>84.2</td>\n",
       "      <td>99.1</td>\n",
       "      <td>100.0</td>\n",
       "      <td>100.0</td>\n",
       "      <td>100.0</td>\n",
       "    </tr>\n",
       "  </tbody>\n",
       "</table>\n",
       "</div>"
      ],
      "text/plain": [
       "   Rank                                         Name         Region  \\\n",
       "0     1  Massachusetts Institute of Technology (MIT)  North America   \n",
       "1     2                         University of Oxford         Europe   \n",
       "2     3                          Stanford University  North America   \n",
       "3     4                      University of Cambridge         Europe   \n",
       "4     5                           Harvard University  North America   \n",
       "\n",
       "         Location       City  Overall Score  International Students Ratio  \\\n",
       "0   United States  Cambridge          100.0                          91.4   \n",
       "1  United Kingdom     Oxford           99.5                          98.5   \n",
       "2   United States   Stanford           98.7                          67.0   \n",
       "3  United Kingdom  Cambridge           98.7                          97.7   \n",
       "4   United States  Cambridge           98.0                          70.1   \n",
       "\n",
       "  International Faculty Ratio  Faculty Student Ratio  Academic Reputation  \\\n",
       "0                         100                  100.0                100.0   \n",
       "1                        99.5                  100.0                100.0   \n",
       "2                        99.8                  100.0                100.0   \n",
       "3                         100                  100.0                100.0   \n",
       "4                        84.2                   99.1                100.0   \n",
       "\n",
       "   Citations Per Faculty  Employer Reputation  \n",
       "0                  100.0                100.0  \n",
       "1                   96.0                100.0  \n",
       "2                   99.9                100.0  \n",
       "3                   92.1                100.0  \n",
       "4                  100.0                100.0  "
      ]
     },
     "execution_count": 107,
     "metadata": {},
     "output_type": "execute_result"
    }
   ],
   "source": [
    "uni_ranks.head()"
   ]
  },
  {
   "cell_type": "code",
   "execution_count": 108,
   "id": "9fdf49cc",
   "metadata": {},
   "outputs": [
    {
     "data": {
      "text/plain": [
       "(100, 12)"
      ]
     },
     "execution_count": 108,
     "metadata": {},
     "output_type": "execute_result"
    }
   ],
   "source": [
    "uni_ranks.shape"
   ]
  },
  {
   "cell_type": "code",
   "execution_count": 109,
   "id": "c3dd03bb",
   "metadata": {},
   "outputs": [
    {
     "name": "stdout",
     "output_type": "stream",
     "text": [
      "<class 'pandas.core.frame.DataFrame'>\n",
      "RangeIndex: 100 entries, 0 to 99\n",
      "Data columns (total 12 columns):\n",
      " #   Column                        Non-Null Count  Dtype  \n",
      "---  ------                        --------------  -----  \n",
      " 0   Rank                          100 non-null    int64  \n",
      " 1   Name                          100 non-null    object \n",
      " 2   Region                        100 non-null    object \n",
      " 3   Location                      100 non-null    object \n",
      " 4   City                          98 non-null     object \n",
      " 5   Overall Score                 100 non-null    float64\n",
      " 6   International Students Ratio  100 non-null    float64\n",
      " 7   International Faculty Ratio   100 non-null    object \n",
      " 8   Faculty Student Ratio         100 non-null    float64\n",
      " 9   Academic Reputation           100 non-null    float64\n",
      " 10  Citations Per Faculty         100 non-null    float64\n",
      " 11  Employer Reputation           100 non-null    float64\n",
      "dtypes: float64(6), int64(1), object(5)\n",
      "memory usage: 9.5+ KB\n"
     ]
    }
   ],
   "source": [
    "uni_ranks.info()"
   ]
  },
  {
   "cell_type": "code",
   "execution_count": 111,
   "id": "0f72c365",
   "metadata": {},
   "outputs": [
    {
     "data": {
      "text/html": [
       "<div>\n",
       "<style scoped>\n",
       "    .dataframe tbody tr th:only-of-type {\n",
       "        vertical-align: middle;\n",
       "    }\n",
       "\n",
       "    .dataframe tbody tr th {\n",
       "        vertical-align: top;\n",
       "    }\n",
       "\n",
       "    .dataframe thead th {\n",
       "        text-align: right;\n",
       "    }\n",
       "</style>\n",
       "<table border=\"1\" class=\"dataframe\">\n",
       "  <thead>\n",
       "    <tr style=\"text-align: right;\">\n",
       "      <th></th>\n",
       "      <th>Rank</th>\n",
       "      <th>Overall Score</th>\n",
       "      <th>International Students Ratio</th>\n",
       "      <th>Faculty Student Ratio</th>\n",
       "      <th>Academic Reputation</th>\n",
       "      <th>Citations Per Faculty</th>\n",
       "      <th>Employer Reputation</th>\n",
       "    </tr>\n",
       "  </thead>\n",
       "  <tbody>\n",
       "    <tr>\n",
       "      <th>count</th>\n",
       "      <td>100.000000</td>\n",
       "      <td>100.000000</td>\n",
       "      <td>100.000000</td>\n",
       "      <td>100.000000</td>\n",
       "      <td>100.000000</td>\n",
       "      <td>100.000000</td>\n",
       "      <td>100.000000</td>\n",
       "    </tr>\n",
       "    <tr>\n",
       "      <th>mean</th>\n",
       "      <td>50.500000</td>\n",
       "      <td>76.744000</td>\n",
       "      <td>68.727000</td>\n",
       "      <td>70.443000</td>\n",
       "      <td>82.246000</td>\n",
       "      <td>73.482000</td>\n",
       "      <td>79.851000</td>\n",
       "    </tr>\n",
       "    <tr>\n",
       "      <th>std</th>\n",
       "      <td>29.011492</td>\n",
       "      <td>11.312711</td>\n",
       "      <td>29.049539</td>\n",
       "      <td>28.535451</td>\n",
       "      <td>16.811795</td>\n",
       "      <td>23.785121</td>\n",
       "      <td>19.957887</td>\n",
       "    </tr>\n",
       "    <tr>\n",
       "      <th>min</th>\n",
       "      <td>1.000000</td>\n",
       "      <td>59.900000</td>\n",
       "      <td>3.000000</td>\n",
       "      <td>6.900000</td>\n",
       "      <td>32.100000</td>\n",
       "      <td>1.900000</td>\n",
       "      <td>14.400000</td>\n",
       "    </tr>\n",
       "    <tr>\n",
       "      <th>25%</th>\n",
       "      <td>25.750000</td>\n",
       "      <td>66.200000</td>\n",
       "      <td>43.725000</td>\n",
       "      <td>52.475000</td>\n",
       "      <td>72.275000</td>\n",
       "      <td>55.175000</td>\n",
       "      <td>64.100000</td>\n",
       "    </tr>\n",
       "    <tr>\n",
       "      <th>50%</th>\n",
       "      <td>50.500000</td>\n",
       "      <td>75.700000</td>\n",
       "      <td>70.800000</td>\n",
       "      <td>79.150000</td>\n",
       "      <td>85.900000</td>\n",
       "      <td>78.100000</td>\n",
       "      <td>86.950000</td>\n",
       "    </tr>\n",
       "    <tr>\n",
       "      <th>75%</th>\n",
       "      <td>75.250000</td>\n",
       "      <td>85.450000</td>\n",
       "      <td>97.750000</td>\n",
       "      <td>96.150000</td>\n",
       "      <td>97.925000</td>\n",
       "      <td>95.025000</td>\n",
       "      <td>97.150000</td>\n",
       "    </tr>\n",
       "    <tr>\n",
       "      <th>max</th>\n",
       "      <td>100.000000</td>\n",
       "      <td>100.000000</td>\n",
       "      <td>100.000000</td>\n",
       "      <td>100.000000</td>\n",
       "      <td>100.000000</td>\n",
       "      <td>100.000000</td>\n",
       "      <td>100.000000</td>\n",
       "    </tr>\n",
       "  </tbody>\n",
       "</table>\n",
       "</div>"
      ],
      "text/plain": [
       "             Rank  Overall Score  International Students Ratio  \\\n",
       "count  100.000000     100.000000                    100.000000   \n",
       "mean    50.500000      76.744000                     68.727000   \n",
       "std     29.011492      11.312711                     29.049539   \n",
       "min      1.000000      59.900000                      3.000000   \n",
       "25%     25.750000      66.200000                     43.725000   \n",
       "50%     50.500000      75.700000                     70.800000   \n",
       "75%     75.250000      85.450000                     97.750000   \n",
       "max    100.000000     100.000000                    100.000000   \n",
       "\n",
       "       Faculty Student Ratio  Academic Reputation  Citations Per Faculty  \\\n",
       "count             100.000000           100.000000             100.000000   \n",
       "mean               70.443000            82.246000              73.482000   \n",
       "std                28.535451            16.811795              23.785121   \n",
       "min                 6.900000            32.100000               1.900000   \n",
       "25%                52.475000            72.275000              55.175000   \n",
       "50%                79.150000            85.900000              78.100000   \n",
       "75%                96.150000            97.925000              95.025000   \n",
       "max               100.000000           100.000000             100.000000   \n",
       "\n",
       "       Employer Reputation  \n",
       "count           100.000000  \n",
       "mean             79.851000  \n",
       "std              19.957887  \n",
       "min              14.400000  \n",
       "25%              64.100000  \n",
       "50%              86.950000  \n",
       "75%              97.150000  \n",
       "max             100.000000  "
      ]
     },
     "execution_count": 111,
     "metadata": {},
     "output_type": "execute_result"
    }
   ],
   "source": [
    "uni_ranks.describe()"
   ]
  },
  {
   "cell_type": "code",
   "execution_count": 114,
   "id": "225e9815",
   "metadata": {},
   "outputs": [
    {
     "name": "stdout",
     "output_type": "stream",
     "text": [
      "0        United States\n",
      "1       United Kingdom\n",
      "2        United States\n",
      "3       United Kingdom\n",
      "4        United States\n",
      "            ...       \n",
      "95      United Kingdom\n",
      "96       United States\n",
      "97         South Korea\n",
      "98    China (Mainland)\n",
      "99             Denmark\n",
      "Name: Location, Length: 100, dtype: object\n"
     ]
    }
   ],
   "source": [
    "# Numerical Analysis and Visualization\n",
    "\n",
    "print(uni_ranks[\"Location\"])"
   ]
  },
  {
   "cell_type": "code",
   "execution_count": 113,
   "id": "95cfc551",
   "metadata": {},
   "outputs": [
    {
     "name": "stdout",
     "output_type": "stream",
     "text": [
      "['Argentina', 'Australia', 'Belgium', 'Canada', 'China (Mainland)', 'Denmark', 'France', 'Germany', 'Hong Kong SAR', 'Japan', 'Malaysia', 'Netherlands', 'New Zealand', 'Russia', 'Singapore', 'South Korea', 'Sweden', 'Switzerland', 'Taiwan', 'United Kingdom', 'United States']\n"
     ]
    }
   ],
   "source": [
    "location_amount = []\n",
    "location_count = uni_ranks.groupby(\"Location\").Location.unique()\n",
    "for loc in location_count:\n",
    "    location_amount.extend(loc)\n",
    "print(location_amount)"
   ]
  },
  {
   "cell_type": "code",
   "execution_count": 112,
   "id": "cc0ac86c",
   "metadata": {
    "scrolled": false
   },
   "outputs": [
    {
     "name": "stdout",
     "output_type": "stream",
     "text": [
      "Location\n",
      "Argentina            1\n",
      "Australia            7\n",
      "Belgium              1\n",
      "Canada               3\n",
      "China (Mainland)     6\n",
      "Denmark              2\n",
      "France               4\n",
      "Germany              3\n",
      "Hong Kong SAR        5\n",
      "Japan                5\n",
      "Malaysia             1\n",
      "Netherlands          2\n",
      "New Zealand          1\n",
      "Russia               1\n",
      "Singapore            2\n",
      "South Korea          6\n",
      "Sweden               2\n",
      "Switzerland          3\n",
      "Taiwan               1\n",
      "United Kingdom      17\n",
      "United States       27\n",
      "Name: Name, dtype: int64\n",
      "[1, 7, 1, 3, 6, 2, 4, 3, 5, 5, 1, 2, 1, 1, 2, 6, 2, 3, 1, 17, 27]\n"
     ]
    }
   ],
   "source": [
    "university_amount = []\n",
    "university_count = uni_ranks.groupby(\"Location\").Name.count()\n",
    "print(university_count)\n",
    "for count in university_count:\n",
    "    university_amount.append(count)\n",
    "print(university_amount)"
   ]
  },
  {
   "cell_type": "code",
   "execution_count": 117,
   "id": "d09941df",
   "metadata": {},
   "outputs": [
    {
     "data": {
      "image/png": "[encoded data removed]",
      "text/plain": [
       "<Figure size 432x288 with 1 Axes>"
      ]
     },
     "metadata": {
      "needs_background": "light"
     },
     "output_type": "display_data"
    }
   ],
   "source": [
    "countries_axis = location_amount\n",
    "university_amount_axis = university_amount\n",
    "plt.title('The amount of universities in each countries')\n",
    "plt.bar(countries_axis, university_amount_axis, align='center')\n",
    "plt.gcf().autofmt_xdate()\n",
    "plt.show()"
   ]
  },
  {
   "cell_type": "code",
   "execution_count": null,
   "id": "6bcacaa4",
   "metadata": {},
   "outputs": [],
   "source": []
  }
 ],
 "metadata": {
  "kernelspec": {
   "display_name": "Python 3",
   "language": "python",
   "name": "python3"
  },
  "language_info": {
   "codemirror_mode": {
    "name": "ipython",
    "version": 3
   },
   "file_extension": ".py",
   "mimetype": "text/x-python",
   "name": "python",
   "nbconvert_exporter": "python",
   "pygments_lexer": "ipython3",
   "version": "3.8.5"
  },
  "vscode": {
   "interpreter": {
    "hash": "5dfae5e4ec4aeb58fc3aca8e7e87465f54ab99df763325b62da24789ecd4ea9b"
   }
  }
 },
 "nbformat": 4,
 "nbformat_minor": 5
}
